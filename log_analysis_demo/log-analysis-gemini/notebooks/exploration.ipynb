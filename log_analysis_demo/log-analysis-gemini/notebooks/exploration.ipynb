{
 "cells": [
  {
   "cell_type": "markdown",
   "metadata": {},
   "source": [
    "# Log Analysis Exploration\n",
    "\n",
    "This notebook is intended for exploratory data analysis of log data using the Gemini API. \n",
    "We will load the necessary libraries, configure the API client, and perform some initial analyses."
   ]
  },
  {
   "cell_type": "code",
   "execution_count": null,
   "metadata": {},
   "outputs": [],
   "source": [
    "# Import necessary libraries\n",
    "import pandas as pd\n",
    "from src.api.gemini_client import GeminiClient\n",
    "from src.analyzer import LogAnalyzer\n",
    "\n",
    "# Initialize the Gemini client\n",
    "api_key = 'YOUR_GEMINI_API_KEY'\n",
    "client = GeminiClient(api_key)\n",
    "\n",
    "# Fetch log data\n",
    "log_data = client.fetch_data()\n",
    "\n",
    "# Convert log data to DataFrame for analysis\n",
    "df = pd.DataFrame(log_data)\n",
    "\n",
    "# Display the first few rows of the DataFrame\n",
    "df.head()"
   ]
  },
  {
   "cell_type": "markdown",
   "metadata": {},
   "source": [
    "## Initial Analysis\n",
    "\n",
    "In this section, we will perform some initial analysis on the log data, such as summarizing the log levels and counting occurrences."
   ]
  },
  {
   "cell_type": "markdown",
   "metadata": {},
   "source": []
  },
  {
   "cell_type": "code",
   "execution_count": null,
   "metadata": {},
   "outputs": [],
   "source": [
    "# Summarize log levels\n",
    "log_level_counts = df['level'].value_counts()\n",
    "\n",
    "# Display log level counts\n",
    "log_level_counts"
   ]
  }
 ],
 "metadata": {
  "kernelspec": {
   "display_name": "Python 3",
   "language": "python",
   "name": "python3"
  },
  "language_info": {
   "codemirror_mode": {
    "name": "ipython",
    "version": 3
   },
   "file_extension": ".py",
   "mimetype": "text/x-python",
   "name": "python",
   "nbconvert_exporter": "python",
   "pygments_lexer": "ipython3",
   "version": "3.8.5"
  }
 },
 "nbformat": 4,
 "nbformat_minor": 4
}
